{
  "nbformat": 4,
  "nbformat_minor": 0,
  "metadata": {
    "colab": {
      "name": "CS 6966-001 Spring 2022 Theory of Machine Learning - HW2.ipynb",
      "provenance": [],
      "collapsed_sections": [
        "MkHNoQsz1o_-",
        "3sVAsSMm1sOX"
      ]
    },
    "kernelspec": {
      "name": "python3",
      "display_name": "Python 3"
    },
    "language_info": {
      "name": "python"
    }
  },
  "cells": [
    {
      "cell_type": "markdown",
      "source": [
        "### Problem 1\n"
      ],
      "metadata": {
        "id": "VKgjyGNc1amj"
      }
    },
    {
      "cell_type": "code",
      "execution_count": null,
      "metadata": {
        "id": "WYA6Z8JV0Nz9",
        "colab": {
          "base_uri": "https://localhost:8080/"
        },
        "outputId": "cd4eb615-4d5c-41f8-fb24-16552b9cb3f1"
      },
      "outputs": [
        {
          "output_type": "stream",
          "name": "stdout",
          "text": [
            "--- Uncorrupted ---\n",
            "The weights discovered: 1.548438\n",
            "The total loss: 0.498202\n",
            "\n",
            "\n",
            "--- Corrupted ---\n",
            "The weights discovered: 1.068438\n",
            "The total loss: 513.785889\n"
          ]
        }
      ],
      "source": [
        "import numpy as np\n",
        "import time\n",
        "\n",
        "def gradientLoss(x,y,w):\n",
        "  return (-y)*(1/(1+np.exp(y*x*w)))*x\n",
        "\n",
        "def lossSingular(x,y,w):\n",
        "  return np.log(1+np.exp(-y*x*w))\n",
        "\n",
        "def totalLoss(X,Y,w):\n",
        "  return sum([lossSingular(x,y,w) for (x,y) in zip(X,Y)])\n",
        "\n",
        "def gradient(X,Y,w):\n",
        "  return sum([gradientLoss(x,y,w) for (x,y) in zip(X,Y)])\n",
        "\n",
        "def gradientDesc(X,Y,w_0,eta = 1.0, max_iter=1):\n",
        "  turns = 0\n",
        "  w = w_0\n",
        "  while(turns<max_iter):\n",
        "    g = gradient(X,Y,w)\n",
        "    w = w - eta*g\n",
        "    turns+=1\n",
        "  return w\n",
        "\n",
        "def main():\n",
        "  print(\"--- Uncorrupted ---\")\n",
        "  X = np.concatenate((np.arange(-50,0,1),np.arange(1,51)))\n",
        "  Y = np.concatenate((np.full(50,-1),np.full(50,1)))\n",
        "  w_0 = -1\n",
        "  w = gradientDesc(X,Y,w_0,eta = 0.001)\n",
        "  print(\"The weights discovered: %f\"%w)\n",
        "  print(\"The total loss: %f\"%totalLoss(X,Y,w))\n",
        "  \n",
        "  print(\"\\n\")\n",
        "  print(\"--- Corrupted ---\")\n",
        "  Y_ = np.copy(Y)\n",
        "  for i in range(5):\n",
        "    Y_[i] = 1\n",
        "    Y_[100-1-i] = -1\n",
        "  w = gradientDesc(X,Y_,w_0,eta = 0.001)\n",
        "  print(\"The weights discovered: %f\"%w)\n",
        "  print(\"The total loss: %f\"%totalLoss(X,Y_,w))\n",
        "  \n",
        "\n",
        "if __name__ == \"__main__\":\n",
        "  main()"
      ]
    },
    {
      "cell_type": "markdown",
      "source": [
        "### Problem 3"
      ],
      "metadata": {
        "id": "MkHNoQsz1o_-"
      }
    },
    {
      "cell_type": "code",
      "source": [
        "import numpy as np\n",
        "import time\n",
        "\n",
        "def generateMatrix(dim):\n",
        "  return np.random.choice(np.linspace(-1,1), size=dim)\n",
        "\n",
        "def generateA(n,m):\n",
        "  return generateMatrix((m,n))\n",
        "\n",
        "def generateX(n):\n",
        "  return generateMatrix(n)\n",
        "\n",
        "def generateEta(m):\n",
        "  return np.random.normal(0.0,0.5,size=m)\n",
        "\n",
        "def gradientF(AtA,x,Atb):\n",
        "  return np.dot(AtA,x)-Atb\n",
        "\n",
        "def gradientDescent(x_0, A, b, st_sze, max_iter = 50, tol = 1e-4):\n",
        "  turns = 0\n",
        "  err = np.inf\n",
        "  x = x_0\n",
        "  AtA = np.dot(np.transpose(A),A)\n",
        "  Atb = np.dot(np.transpose(A),b)\n",
        "  while(turns<max_iter and err>tol):\n",
        "    x_ = x - st_sze*gradientF(AtA,x,Atb)\n",
        "    turns += 1\n",
        "    x = x_\n",
        "  return x\n",
        "\n",
        "def main():\n",
        "  n = 500\n",
        "  m = 2*n\n",
        "  A = generateA(n,m)\n",
        "  x_star = generateX(n)\n",
        "  eta = generateEta(m)\n",
        "  b = np.dot(A,x_star)+eta\n",
        "  start_time = time.time()\n",
        "  x = gradientDescent(np.full(n,0), A, b, 1e-3)\n",
        "  print(\"Size of the x*: %f\"%np.linalg.norm(x_star))\n",
        "  print(\"\\n\")\n",
        "  print(\"--- Gradient Descent ---\")\n",
        "  print(\"Time elapsed: %s seconds\" % (time.time() - start_time))\n",
        "  print(\"Error in the resultant vector (l2 norm of x-x*): %f\"%np.linalg.norm(x-x_star))\n",
        "  start_time = time.time()\n",
        "  x_ = np.dot(np.linalg.inv(np.dot(np.transpose(A),A)),np.dot(np.transpose(A),b))\n",
        "  print(\"\\n\")\n",
        "  print(\"--- Matrix Inverse ---\")\n",
        "  print(\"Time elapsed: %s seconds\" % (time.time() - start_time))\n",
        "  print(\"Error in the resultant vector (l2 norm of x-x*): %f\"%np.linalg.norm(x_-x_star))\n",
        "\n",
        "if __name__ == \"__main__\":\n",
        "    main()"
      ],
      "metadata": {
        "id": "9bKtKjfi1rYm",
        "colab": {
          "base_uri": "https://localhost:8080/"
        },
        "outputId": "85a17a1a-1e09-448f-9e9f-3d5973820bad"
      },
      "execution_count": null,
      "outputs": [
        {
          "output_type": "stream",
          "name": "stdout",
          "text": [
            "Size of the x*: 13.549238\n",
            "\n",
            "\n",
            "--- Gradient Descent ---\n",
            "Time elapsed: 0.026366710662841797 seconds\n",
            "Error in the resultant vector (l2 norm of x-x*): 0.876003\n",
            "\n",
            "\n",
            "--- Matrix Inverse ---\n",
            "Time elapsed: 0.04223299026489258 seconds\n",
            "Error in the resultant vector (l2 norm of x-x*): 0.804157\n"
          ]
        }
      ]
    },
    {
      "cell_type": "markdown",
      "source": [
        "### Problem 4"
      ],
      "metadata": {
        "id": "3sVAsSMm1sOX"
      }
    },
    {
      "cell_type": "code",
      "source": [
        "import numpy as np\n",
        "import time\n",
        "\n",
        "def gradient(x,a,y,b):\n",
        "  return np.array([2*(x-a),2*(y-b)])\n",
        "\n",
        "def getAB(i,n):\n",
        "  if(i>n):\n",
        "    return ((i-n)/n,-1)\n",
        "  return (i/n,1)\n",
        "\n",
        "def stochasticGD(st, eta, n, max_iter = 200):\n",
        "  turns = 0\n",
        "  while(turns<max_iter):\n",
        "    i = np.random.choice(np.arange(1,2*n+1))\n",
        "    a,b = getAB(i,n)\n",
        "    st = st - eta(turns)*gradient(st[0],a,st[1],b)\n",
        "    turns+=1\n",
        "  return st\n",
        "\n",
        "def main():\n",
        "  n = 200\n",
        "  w = np.array([(n+1)/(2*n),0])\n",
        "  print(\"The true minimum: (%f,%f)\"%(w[0],w[1]))\n",
        "  s = stochasticGD(np.array([1,1]), lambda t: 0.1, n)\n",
        "  print(\"The SGD minimum with 0.1: (%f,%f)\"%(s[0],s[1]))\n",
        "  print(\"The error with 0.1: %f\"%np.linalg.norm(s-w))\n",
        "  s = stochasticGD(np.array([1,1]), lambda t: 0.1/(t+1), n)\n",
        "  print(\"The SGD minimum with 0.1/(t+1): (%f,%f)\"%(s[0],s[1]))\n",
        "  print(\"The error with 0.1/(t+1): %f\"%np.linalg.norm(s-w))\n",
        "  s = stochasticGD(np.array([1,1]), lambda t: 0.1/np.sqrt(t+1), n)\n",
        "  print(\"The SGD minimum with 0.1/sqrt(t+1): (%f,%f)\"%(s[0],s[1]))\n",
        "  print(\"The error with 0.1/sqrt(t+1): %f\"%np.linalg.norm(s-w))\n",
        "\n",
        "if __name__ == \"__main__\":\n",
        "  main()\n",
        "\n"
      ],
      "metadata": {
        "id": "WOEqHzGk1u4K",
        "colab": {
          "base_uri": "https://localhost:8080/"
        },
        "outputId": "1501cce8-2ba7-4afd-8ffd-ae8e37c7ebe4"
      },
      "execution_count": null,
      "outputs": [
        {
          "output_type": "stream",
          "name": "stdout",
          "text": [
            "The true minimum: (0.502500,0.000000)\n",
            "The SGD minimum with 0.1: (0.597295,0.044335)\n",
            "The error with 0.1: 0.104650\n",
            "The SGD minimum with 0.1/(t+1): (0.644159,0.332006)\n",
            "The error with 0.1/(t+1): 0.360964\n",
            "The SGD minimum with 0.1/sqrt(t+1): (0.525291,-0.053591)\n",
            "The error with 0.1/sqrt(t+1): 0.058236\n"
          ]
        }
      ]
    }
  ]
}